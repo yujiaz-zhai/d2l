{
 "cells": [
  {
   "cell_type": "markdown",
   "metadata": {},
   "source": [
    "## 权重衰减（L2 正则化）\n",
    "#### 动手学深度学习 —— 权重衰减（L2 正则化）\n",
    "#### 使用 Pytorch 实现——yujia"
   ]
  },
  {
   "cell_type": "code",
   "execution_count": null,
   "metadata": {},
   "outputs": [],
   "source": []
  },
  {
   "cell_type": "code",
   "execution_count": 75,
   "metadata": {},
   "outputs": [],
   "source": [
    "import numpy as np\n",
    "from matplotlib import pyplot as plt\n",
    "from IPython import display\n",
    "import random\n",
    "import torch\n",
    "from torch import nn\n",
    "from torch.utils.data import Dataset, DataLoader\n",
    "import torchvision\n",
    "import torchvision.transforms as transforms"
   ]
  },
  {
   "cell_type": "markdown",
   "metadata": {},
   "source": [
    "#### 造数据"
   ]
  },
  {
   "cell_type": "code",
   "execution_count": 76,
   "metadata": {},
   "outputs": [],
   "source": [
    "n_train, n_test, num_inputs = 20, 100, 200\n",
    "true_w, true_b = np.ones((num_inputs, 1)) * 0.01, 0.05"
   ]
  },
  {
   "cell_type": "code",
   "execution_count": 77,
   "metadata": {},
   "outputs": [],
   "source": [
    "features = np.random.normal(size=(n_train + n_test, num_inputs))\n",
    "labels = np.dot(features, true_w) + true_b\n",
    "labels += np.random.normal(scale=0.01, size=labels.shape)\n",
    "train_features, test_features = features[:n_train, :], features[n_train:, :]\n",
    "train_labels, test_labels = labels[:n_train, :], labels[n_train:, :]\n",
    "train_features = torch.from_numpy(train_features)\n",
    "test_features = torch.from_numpy(test_features)\n",
    "train_labels = torch.from_numpy(train_labels)\n",
    "test_labels = torch.from_numpy(test_labels)"
   ]
  },
  {
   "cell_type": "code",
   "execution_count": 83,
   "metadata": {},
   "outputs": [],
   "source": [
    "class MyDataset(Dataset):\n",
    "    def __init__(self, features, labels):\n",
    "        self.x = features\n",
    "        self.y = labels\n",
    "        self.len = len(self.x)\n",
    "    def __getitem__(self, index):\n",
    "        return self.x[index], self.y[index]\n",
    "    def __len__(self):\n",
    "        return self.len\n",
    "train_set = MyDataset(train_features, train_labels)\n",
    "test_set = MyDataset(test_features, test_labels)"
   ]
  },
  {
   "cell_type": "code",
   "execution_count": 84,
   "metadata": {},
   "outputs": [
    {
     "name": "stdout",
     "output_type": "stream",
     "text": [
      "torch.Size([1, 200])\n"
     ]
    }
   ],
   "source": [
    "batch_size = 1\n",
    "num_workers = 0\n",
    "train_iter = DataLoader(\n",
    "    dataset = train_set,\n",
    "    batch_size = batch_size,\n",
    "    shuffle = True,\n",
    "    num_workers = num_workers,\n",
    "    drop_last = True\n",
    ")\n",
    "test_iter = DataLoader(\n",
    "    dataset = test_set,\n",
    "    batch_size = batch_size,\n",
    "    shuffle = True,\n",
    "    num_workers = num_workers,\n",
    "    drop_last = True\n",
    ")\n",
    "for X, y in train_iter:\n",
    "    print(X.shape)\n",
    "    break"
   ]
  },
  {
   "cell_type": "markdown",
   "metadata": {},
   "source": [
    "#### 定义网络"
   ]
  },
  {
   "cell_type": "code",
   "execution_count": 85,
   "metadata": {},
   "outputs": [],
   "source": [
    "class Net(nn.Module):\n",
    "    def __init__(self):\n",
    "        super(Net, self).__init__()\n",
    "        self.linear_net = nn.Sequential(\n",
    "            nn.Linear(200, 1)\n",
    "        )\n",
    "    def forward(self, x):\n",
    "        x = self.linear_net(x)\n",
    "        return x\n",
    "model = Net()"
   ]
  },
  {
   "cell_type": "code",
   "execution_count": 89,
   "metadata": {},
   "outputs": [
    {
     "data": {
      "text/plain": [
       "Net(\n",
       "  (linear_net): Sequential(\n",
       "    (0): Linear(in_features=200, out_features=1, bias=True)\n",
       "  )\n",
       ")"
      ]
     },
     "execution_count": 89,
     "metadata": {},
     "output_type": "execute_result"
    }
   ],
   "source": [
    "def NetInit(m):\n",
    "    if type(m) == nn.Linear:\n",
    "        torch.nn.init.normal_(m.weight, mean=0, std=0.01)\n",
    "model.apply(NetInit).double()"
   ]
  },
  {
   "cell_type": "code",
   "execution_count": 90,
   "metadata": {},
   "outputs": [],
   "source": [
    "loss = torch.nn.MSELoss()\n",
    "lr = 0.03\n",
    "num_epochs = 100"
   ]
  },
  {
   "cell_type": "code",
   "execution_count": 93,
   "metadata": {},
   "outputs": [
    {
     "data": {
      "image/png": "[encoded data removed]",
      "text/plain": [
       "<Figure size 432x288 with 1 Axes>"
      ]
     },
     "metadata": {
      "needs_background": "light"
     },
     "output_type": "display_data"
    }
   ],
   "source": [
    "def fit_and_plot(wd):\n",
    "    trainer_w = torch.optim.SGD(model.parameters(), lr=lr, weight_decay=wd)\n",
    "    trainer_b = torch.optim.SGD(model.parameters(), lr=lr)\n",
    "    train_ls, test_ls = [], []\n",
    "    for epoch in range(1, num_epochs+1):\n",
    "        for step, (X, y) in enumerate(train_iter):\n",
    "            l = loss(model(X), y)\n",
    "            l.backward()\n",
    "            trainer_w.step()\n",
    "            trainer_b.step()\n",
    "        train_ls.append(loss(model(train_features), train_labels).mean())\n",
    "        test_ls.append(loss(model(test_features), test_labels).mean())\n",
    "    fig, ax = plt.subplots()\n",
    "    x = np.linspace(1, num_epochs+1, 100)\n",
    "    y1 = train_ls\n",
    "    ax.plot(x, y1, label='train')\n",
    "fit_and_plot(0)"
   ]
  },
  {
   "cell_type": "code",
   "execution_count": null,
   "metadata": {},
   "outputs": [],
   "source": []
  }
 ],
 "metadata": {
  "kernelspec": {
   "display_name": "Python [conda env:root] *",
   "language": "python",
   "name": "conda-root-py"
  },
  "language_info": {
   "codemirror_mode": {
    "name": "ipython",
    "version": 3
   },
   "file_extension": ".py",
   "mimetype": "text/x-python",
   "name": "python",
   "nbconvert_exporter": "python",
   "pygments_lexer": "ipython3",
   "version": "3.8.5"
  }
 },
 "nbformat": 4,
 "nbformat_minor": 4
}
